{
 "cells": [
  {
   "cell_type": "code",
   "execution_count": 1,
   "id": "9e84f383",
   "metadata": {
    "id": "9e84f383"
   },
   "outputs": [],
   "source": [
    "# Import\n",
    "\n",
    "import tensorflow as tf\n",
    "import numpy as np\n",
    "import pandas as pd\n",
    "import matplotlib.pyplot as plt\n",
    "from tensorflow.keras.utils import to_categorical\n",
    "from tensorflow.keras.models import Model\n",
    "from tensorflow.keras.layers import Input, Dense, Conv2D, MaxPool2D, Flatten, GlobalAveragePooling2D, Dropout, Add, BatchNormalization\n",
    "from tensorflow.keras.activations import relu\n",
    "from tensorflow.keras.regularizers import l2\n",
    "from tensorflow.keras.callbacks import LearningRateScheduler\n",
    "from tensorflow.keras.optimizers import SGD\n",
    "from tensorflow.keras.callbacks import EarlyStopping\n",
    "\n",
    "%matplotlib inline"
   ]
  },
  {
   "cell_type": "markdown",
   "id": "3628955d",
   "metadata": {
    "id": "3628955d"
   },
   "source": [
    "### Load and preprocessing data"
   ]
  },
  {
   "cell_type": "code",
   "execution_count": 2,
   "id": "f2a1c6cc",
   "metadata": {
    "colab": {
     "base_uri": "https://localhost:8080/"
    },
    "id": "f2a1c6cc",
    "outputId": "e64c4927-7a11-4473-f47f-ffb4d80ad689"
   },
   "outputs": [
    {
     "name": "stdout",
     "output_type": "stream",
     "text": [
      "Downloading data from https://www.cs.toronto.edu/~kriz/cifar-10-python.tar.gz\n",
      "170500096/170498071 [==============================] - 4s 0us/step\n",
      "170508288/170498071 [==============================] - 4s 0us/step\n"
     ]
    }
   ],
   "source": [
    "(x_train, y_train), (x_test, y_test) = tf.keras.datasets.cifar10.load_data()"
   ]
  },
  {
   "cell_type": "code",
   "execution_count": null,
   "id": "1b77e107",
   "metadata": {
    "colab": {
     "base_uri": "https://localhost:8080/"
    },
    "id": "1b77e107",
    "outputId": "5ac7e281-ff69-485f-9f18-32bec0f4bcef"
   },
   "outputs": [],
   "source": [
    "x_train.shape, y_train.shape, x_test.shape, y_test.shape"
   ]
  },
  {
   "cell_type": "code",
   "execution_count": null,
   "id": "1ac53970",
   "metadata": {
    "colab": {
     "base_uri": "https://localhost:8080/"
    },
    "id": "1ac53970",
    "outputId": "bdf0fb59-4345-40ed-dba8-13b23a5bbcbe"
   },
   "outputs": [],
   "source": [
    "y_train = to_categorical(y_train, num_classes=10)\n",
    "y_test = to_categorical(y_test, num_classes=10)\n",
    "\n",
    "y_train.shape, y_test.shape, y_train.dtype, y_test.dtype"
   ]
  },
  {
   "cell_type": "code",
   "execution_count": null,
   "id": "3e6d057a",
   "metadata": {
    "colab": {
     "base_uri": "https://localhost:8080/"
    },
    "id": "3e6d057a",
    "outputId": "9872ebc4-7e76-465c-ffeb-cb67f6db9c50"
   },
   "outputs": [],
   "source": [
    "x_train = x_train.astype(np.float32) / 255.0\n",
    "x_test = x_test.astype(np.float32) / 255.0\n",
    "\n",
    "x_train.shape, x_train.min(), x_train.max(), x_train.dtype"
   ]
  },
  {
   "cell_type": "code",
   "execution_count": 6,
   "id": "cc70ee9b",
   "metadata": {
    "colab": {
     "base_uri": "https://localhost:8080/",
     "height": 301
    },
    "id": "cc70ee9b",
    "outputId": "0330d327-d85d-47af-9f9d-404a48ad3461"
   },
   "outputs": [
    {
     "data": {
      "text/plain": [
       "(<matplotlib.image.AxesImage at 0x7fcc7f914950>,\n",
       " array([0., 0., 0., 0., 0., 0., 1., 0., 0., 0.], dtype=float32))"
      ]
     },
     "execution_count": 6,
     "metadata": {},
     "output_type": "execute_result"
    },
    {
     "data": {
      "image/png": "[encoded data removed]",
      "text/plain": [
       "<Figure size 432x288 with 1 Axes>"
      ]
     },
     "metadata": {
      "needs_background": "light"
     },
     "output_type": "display_data"
    }
   ],
   "source": [
    "plt.imshow(x_train[0]), y_train[0]"
   ]
  },
  {
   "cell_type": "markdown",
   "id": "c9944b78",
   "metadata": {
    "id": "c9944b78"
   },
   "source": [
    "### Train test split"
   ]
  },
  {
   "cell_type": "code",
   "execution_count": 7,
   "id": "a864694d",
   "metadata": {
    "colab": {
     "base_uri": "https://localhost:8080/"
    },
    "id": "a864694d",
    "outputId": "27e513f4-876f-442e-a7e5-0d7136fdfe37"
   },
   "outputs": [
    {
     "data": {
      "text/plain": [
       "((37500, 32, 32, 3), (37500, 10), (12500, 32, 32, 3), (12500, 10))"
      ]
     },
     "execution_count": 7,
     "metadata": {},
     "output_type": "execute_result"
    }
   ],
   "source": [
    "from sklearn.model_selection import train_test_split\n",
    "x_train, x_val, y_train, y_val = train_test_split(x_train, y_train)\n",
    "\n",
    "x_train.shape, y_train.shape, x_val.shape, y_val.shape"
   ]
  },
  {
   "cell_type": "markdown",
   "id": "z1r5zsR_PcLM",
   "metadata": {
    "id": "z1r5zsR_PcLM"
   },
   "source": [
    "### Data generator"
   ]
  },
  {
   "cell_type": "code",
   "execution_count": 8,
   "id": "Vv0bwD5LPfMV",
   "metadata": {
    "id": "Vv0bwD5LPfMV"
   },
   "outputs": [],
   "source": [
    "from tensorflow.keras.preprocessing.image import ImageDataGenerator\n",
    "\n",
    "batch_size = 32\n",
    "\n",
    "data_generator = ImageDataGenerator(\n",
    "    width_shift_range=0.1, height_shift_range=0.1, horizontal_flip=True)\n",
    "\n",
    "train_generator = data_generator.flow(x_train, y_train, batch_size=batch_size)\n",
    "step_per_epoch = x_train.shape[0] // batch_size"
   ]
  },
  {
   "cell_type": "markdown",
   "id": "53f9557c",
   "metadata": {
    "id": "53f9557c"
   },
   "source": [
    "### Define, Complile and fit model"
   ]
  },
  {
   "cell_type": "code",
   "execution_count": 9,
   "id": "c43f8e39",
   "metadata": {
    "colab": {
     "base_uri": "https://localhost:8080/"
    },
    "id": "c43f8e39",
    "outputId": "7e3910a9-fbb0-423c-d8cb-5ec5872b50a7"
   },
   "outputs": [
    {
     "name": "stdout",
     "output_type": "stream",
     "text": [
      "Model: \"model\"\n",
      "__________________________________________________________________________________________________\n",
      " Layer (type)                   Output Shape         Param #     Connected to                     \n",
      "==================================================================================================\n",
      " input_1 (InputLayer)           [(None, 32, 32, 3)]  0           []                               \n",
      "                                                                                                  \n",
      " conv2d (Conv2D)                (None, 32, 32, 32)   896         ['input_1[0][0]']                \n",
      "                                                                                                  \n",
      " batch_normalization (BatchNorm  (None, 32, 32, 32)  128         ['conv2d[0][0]']                 \n",
      " alization)                                                                                       \n",
      "                                                                                                  \n",
      " tf.nn.relu (TFOpLambda)        (None, 32, 32, 32)   0           ['batch_normalization[0][0]']    \n",
      "                                                                                                  \n",
      " conv2d_1 (Conv2D)              (None, 32, 32, 32)   9248        ['tf.nn.relu[0][0]']             \n",
      "                                                                                                  \n",
      " batch_normalization_1 (BatchNo  (None, 32, 32, 32)  128         ['conv2d_1[0][0]']               \n",
      " rmalization)                                                                                     \n",
      "                                                                                                  \n",
      " tf.nn.relu_1 (TFOpLambda)      (None, 32, 32, 32)   0           ['batch_normalization_1[0][0]']  \n",
      "                                                                                                  \n",
      " conv2d_2 (Conv2D)              (None, 32, 32, 32)   9248        ['tf.nn.relu_1[0][0]']           \n",
      "                                                                                                  \n",
      " batch_normalization_2 (BatchNo  (None, 32, 32, 32)  128         ['conv2d_2[0][0]']               \n",
      " rmalization)                                                                                     \n",
      "                                                                                                  \n",
      " tf.nn.relu_2 (TFOpLambda)      (None, 32, 32, 32)   0           ['batch_normalization_2[0][0]']  \n",
      "                                                                                                  \n",
      " conv2d_3 (Conv2D)              (None, 16, 16, 32)   9248        ['tf.nn.relu_2[0][0]']           \n",
      "                                                                                                  \n",
      " conv2d_4 (Conv2D)              (None, 16, 16, 64)   18496       ['conv2d_3[0][0]']               \n",
      "                                                                                                  \n",
      " batch_normalization_3 (BatchNo  (None, 16, 16, 64)  256         ['conv2d_4[0][0]']               \n",
      " rmalization)                                                                                     \n",
      "                                                                                                  \n",
      " tf.nn.relu_3 (TFOpLambda)      (None, 16, 16, 64)   0           ['batch_normalization_3[0][0]']  \n",
      "                                                                                                  \n",
      " conv2d_5 (Conv2D)              (None, 16, 16, 64)   36928       ['tf.nn.relu_3[0][0]']           \n",
      "                                                                                                  \n",
      " add (Add)                      (None, 16, 16, 64)   0           ['tf.nn.relu_3[0][0]',           \n",
      "                                                                  'conv2d_5[0][0]']               \n",
      "                                                                                                  \n",
      " tf.nn.relu_4 (TFOpLambda)      (None, 16, 16, 64)   0           ['add[0][0]']                    \n",
      "                                                                                                  \n",
      " conv2d_6 (Conv2D)              (None, 16, 16, 64)   36928       ['tf.nn.relu_4[0][0]']           \n",
      "                                                                                                  \n",
      " batch_normalization_4 (BatchNo  (None, 16, 16, 64)  256         ['conv2d_6[0][0]']               \n",
      " rmalization)                                                                                     \n",
      "                                                                                                  \n",
      " tf.nn.relu_5 (TFOpLambda)      (None, 16, 16, 64)   0           ['batch_normalization_4[0][0]']  \n",
      "                                                                                                  \n",
      " conv2d_7 (Conv2D)              (None, 8, 8, 32)     18464       ['tf.nn.relu_5[0][0]']           \n",
      "                                                                                                  \n",
      " conv2d_8 (Conv2D)              (None, 8, 8, 128)    36992       ['conv2d_7[0][0]']               \n",
      "                                                                                                  \n",
      " batch_normalization_5 (BatchNo  (None, 8, 8, 128)   512         ['conv2d_8[0][0]']               \n",
      " rmalization)                                                                                     \n",
      "                                                                                                  \n",
      " tf.nn.relu_6 (TFOpLambda)      (None, 8, 8, 128)    0           ['batch_normalization_5[0][0]']  \n",
      "                                                                                                  \n",
      " conv2d_9 (Conv2D)              (None, 8, 8, 128)    147584      ['tf.nn.relu_6[0][0]']           \n",
      "                                                                                                  \n",
      " batch_normalization_6 (BatchNo  (None, 8, 8, 128)   512         ['conv2d_9[0][0]']               \n",
      " rmalization)                                                                                     \n",
      "                                                                                                  \n",
      " tf.nn.relu_7 (TFOpLambda)      (None, 8, 8, 128)    0           ['batch_normalization_6[0][0]']  \n",
      "                                                                                                  \n",
      " conv2d_10 (Conv2D)             (None, 8, 8, 128)    147584      ['tf.nn.relu_7[0][0]']           \n",
      "                                                                                                  \n",
      " batch_normalization_7 (BatchNo  (None, 8, 8, 128)   512         ['conv2d_10[0][0]']              \n",
      " rmalization)                                                                                     \n",
      "                                                                                                  \n",
      " tf.nn.relu_8 (TFOpLambda)      (None, 8, 8, 128)    0           ['batch_normalization_7[0][0]']  \n",
      "                                                                                                  \n",
      " conv2d_11 (Conv2D)             (None, 4, 4, 32)     36896       ['tf.nn.relu_8[0][0]']           \n",
      "                                                                                                  \n",
      " global_average_pooling2d (Glob  (None, 32)          0           ['conv2d_11[0][0]']              \n",
      " alAveragePooling2D)                                                                              \n",
      "                                                                                                  \n",
      " dense (Dense)                  (None, 10)           330         ['global_average_pooling2d[0][0]'\n",
      "                                                                 ]                                \n",
      "                                                                                                  \n",
      "==================================================================================================\n",
      "Total params: 511,274\n",
      "Trainable params: 510,058\n",
      "Non-trainable params: 1,216\n",
      "__________________________________________________________________________________________________\n"
     ]
    }
   ],
   "source": [
    "# Define Model\n",
    "\n",
    "input_layer = Input(shape=(32, 32, 3))\n",
    "\n",
    "conv11 = Conv2D(filters=32, kernel_size=(3, 3), strides=1, padding='same', kernel_initializer='HeNormal', kernel_regularizer=l2(1e-4))(input_layer)\n",
    "conv11 = BatchNormalization()(conv11)\n",
    "conv11 = relu(conv11)\n",
    "conv12 = Conv2D(filters=32, kernel_size=(3, 3), strides=1, padding='same', kernel_initializer='HeNormal', kernel_regularizer=l2(1e-4))(conv11)\n",
    "conv12 = BatchNormalization()(conv12)\n",
    "conv12 = relu(conv12)\n",
    "conv13 = Conv2D(filters=32, kernel_size=(3, 3), strides=1, padding='same', kernel_initializer='HeNormal', kernel_regularizer=l2(1e-4))(conv12)\n",
    "conv13 = BatchNormalization()(conv13)\n",
    "conv13 = relu(conv13)\n",
    "maxpool1 = Conv2D(filters=32, kernel_size=(3, 3), strides=2, padding='same', kernel_initializer='HeNormal')(conv13)\n",
    "\n",
    "conv21 = Conv2D(filters=64, kernel_size=(3, 3), strides=1, padding='same', kernel_initializer='HeNormal', kernel_regularizer=l2(1e-4))(maxpool1)\n",
    "conv21 = BatchNormalization()(conv21)\n",
    "conv21 = relu(conv21)\n",
    "conv22 = Conv2D(filters=64, kernel_size=(3, 3), strides=1, padding='same', kernel_initializer='HeNormal', kernel_regularizer=l2(1e-4))(conv21)\n",
    "conv22 = Add()([conv21, conv22])\n",
    "conv22 = relu(conv22)\n",
    "conv23 = Conv2D(filters=64, kernel_size=(3, 3), strides=1, padding='same', kernel_initializer='HeNormal', kernel_regularizer=l2(1e-4))(conv22)\n",
    "conv23 = BatchNormalization()(conv23)\n",
    "conv23 = relu(conv23)\n",
    "maxpool2 = Conv2D(filters=32, kernel_size=(3, 3), strides=2, padding='same', kernel_initializer='HeNormal')(conv23)\n",
    "\n",
    "conv31 = Conv2D(filters=128, kernel_size=(3, 3), strides=1, padding='same', kernel_initializer='HeNormal', kernel_regularizer=l2(1e-4))(maxpool2)\n",
    "conv31 = BatchNormalization()(conv31)\n",
    "conv31 = relu(conv31)\n",
    "conv32 = Conv2D(filters=128, kernel_size=(3, 3), strides=1, padding='same', kernel_initializer='HeNormal', kernel_regularizer=l2(1e-4))(conv31)\n",
    "conv32 = BatchNormalization()(conv32)\n",
    "conv32 = relu(conv32)\n",
    "conv33 = Conv2D(filters=128, kernel_size=(3, 3), strides=1, padding='same', kernel_initializer='HeNormal', kernel_regularizer=l2(1e-4))(conv32)\n",
    "conv33 = BatchNormalization()(conv33)\n",
    "conv33 = relu(conv33)\n",
    "maxpool3 = Conv2D(filters=32, kernel_size=(3, 3), strides=2, padding='same', kernel_initializer='HeNormal')(conv33)\n",
    "\n",
    "flatten = GlobalAveragePooling2D()(maxpool3)\n",
    "\n",
    "output_layer = Dense(units=10, activation='softmax')(flatten)\n",
    "\n",
    "model = Model(input_layer, output_layer)\n",
    "model.summary()\n"
   ]
  },
  {
   "cell_type": "code",
   "execution_count": 10,
   "id": "5123e527",
   "metadata": {
    "colab": {
     "base_uri": "https://localhost:8080/"
    },
    "id": "5123e527",
    "outputId": "c0b9d30c-fc76-499c-8ef0-666a099fdb92"
   },
   "outputs": [
    {
     "name": "stdout",
     "output_type": "stream",
     "text": [
      "Learning rate:  0.01\n"
     ]
    }
   ],
   "source": [
    "# Learning Rate Schedule\n",
    "\n",
    "def lr_schedule(epoch):\n",
    "    \"\"\"Learning Rate Schedule\n",
    "\n",
    "    Learning rate is scheduled to be reduced after 80, 120, 160, 180 epochs.\n",
    "    Called automatically every epoch as part of callbacks during training.\n",
    "\n",
    "    # Arguments\n",
    "        epoch (int): The number of epochs\n",
    "\n",
    "    # Returns\n",
    "        lr (float32): learning rate\n",
    "    \"\"\"\n",
    "    lr = 1e-2\n",
    "    if epoch > 180:\n",
    "        lr *= 0.5e-3\n",
    "    elif epoch > 160:\n",
    "        lr *= 1e-3\n",
    "    elif epoch > 120:\n",
    "        lr *= 1e-2\n",
    "    elif epoch > 80:\n",
    "        lr *= 1e-1\n",
    "    print('Learning rate: ', lr)\n",
    "    return lr\n",
    "\n",
    "\n",
    "# opt = SGD(learning_rate=0.01, momentum=0.9, decay=0.0001)\n",
    "opt = SGD(learning_rate=lr_schedule(0), momentum=0.9)\n",
    "\n",
    "model.compile(optimizer=opt, loss='categorical_crossentropy', metrics=['accuracy'])\n"
   ]
  },
  {
   "cell_type": "code",
   "execution_count": 11,
   "id": "28178146",
   "metadata": {
    "id": "28178146"
   },
   "outputs": [],
   "source": [
    "from tensorflow.keras.callbacks import ReduceLROnPlateau\n",
    "\n",
    "lr_scheduler = LearningRateScheduler(lr_schedule)\n",
    "\n",
    "lr_reducer = ReduceLROnPlateau(factor=np.sqrt(0.001),\n",
    "                               cooldown=0,\n",
    "                               patience=5,\n",
    "                               min_lr=0.5e-6)\n",
    "# alpha = 0.01\n",
    "# decay_steps = 25\n",
    "# learning_rate = 0.1\n",
    "# def cosine_decay(epoch):\n",
    "#         step = min(epoch, 50)\n",
    "#         cosine_decay = 0.5 * (1 + math.cos(math.pi * step / decay_steps))\n",
    "#         decayed = (1 - alpha) * cosine_decay + alpha\n",
    "#         return learning_rate * decayed\n",
    "\n",
    "\n",
    "\n",
    "# initial_learning_rate = 0.01\n",
    "# def schedule(epoch, lr):\n",
    "#     if epoch < 200:\n",
    "#         learning_rate = 0.01\n",
    "#     else:\n",
    "#         learning_rate = 0.1\n",
    "#     return learning_rate\n",
    "\n",
    "\n",
    "\n",
    "# LearningRateScheduler = LearningRateScheduler(cosine_decay)\n",
    "early_stop = EarlyStopping(monitor='val_accuracy', mode='max', patience=50, restore_best_weights=True)\n",
    "callbacks = [early_stop, lr_reducer, lr_scheduler]"
   ]
  },
  {
   "cell_type": "code",
   "execution_count": null,
   "id": "d2d79600",
   "metadata": {
    "colab": {
     "base_uri": "https://localhost:8080/"
    },
    "id": "d2d79600",
    "outputId": "9b122c2a-8cfc-40d6-c0e1-2621281b1be0"
   },
   "outputs": [],
   "source": [
    "# Fit\n",
    "\n",
    "model.fit(train_generator, epochs=600, validation_data=(x_val, y_val), callbacks= callbacks)"
   ]
  },
  {
   "cell_type": "code",
   "execution_count": 13,
   "id": "be3e5859",
   "metadata": {
    "colab": {
     "base_uri": "https://localhost:8080/",
     "height": 282
    },
    "id": "be3e5859",
    "outputId": "6f0b3a37-2c59-41a4-882c-29baaa95e9bc"
   },
   "outputs": [
    {
     "data": {
      "text/plain": [
       "<matplotlib.axes._subplots.AxesSubplot at 0x7fcb8f800210>"
      ]
     },
     "execution_count": 13,
     "metadata": {},
     "output_type": "execute_result"
    },
    {
     "data": {
      "image/png": "[encoded data removed]",
      "text/plain": [
       "<Figure size 432x288 with 1 Axes>"
      ]
     },
     "metadata": {
      "needs_background": "light"
     },
     "output_type": "display_data"
    }
   ],
   "source": [
    "# Plot History\n",
    "\n",
    "history = pd.DataFrame(model.history.history)\n",
    "history.plot()"
   ]
  },
  {
   "cell_type": "code",
   "execution_count": 14,
   "id": "90ec4a21",
   "metadata": {
    "colab": {
     "base_uri": "https://localhost:8080/",
     "height": 282
    },
    "id": "90ec4a21",
    "outputId": "54046fac-31ad-45ae-bd24-44ecf80aa8e7"
   },
   "outputs": [
    {
     "data": {
      "text/plain": [
       "<matplotlib.axes._subplots.AxesSubplot at 0x7fcc036df110>"
      ]
     },
     "execution_count": 14,
     "metadata": {},
     "output_type": "execute_result"
    },
    {
     "data": {
      "image/png": "[encoded data removed]",
      "text/plain": [
       "<Figure size 432x288 with 1 Axes>"
      ]
     },
     "metadata": {
      "needs_background": "light"
     },
     "output_type": "display_data"
    }
   ],
   "source": [
    "history[['loss', 'val_loss']].plot()"
   ]
  },
  {
   "cell_type": "code",
   "execution_count": 15,
   "id": "55ad2153",
   "metadata": {
    "colab": {
     "base_uri": "https://localhost:8080/",
     "height": 282
    },
    "id": "55ad2153",
    "outputId": "a6c3f8bb-465f-41da-e05d-eda40c9c27e6"
   },
   "outputs": [
    {
     "data": {
      "text/plain": [
       "<matplotlib.axes._subplots.AxesSubplot at 0x7fcc036b2190>"
      ]
     },
     "execution_count": 15,
     "metadata": {},
     "output_type": "execute_result"
    },
    {
     "data": {
      "image/png": "[encoded data removed]",
      "text/plain": [
       "<Figure size 432x288 with 1 Axes>"
      ]
     },
     "metadata": {
      "needs_background": "light"
     },
     "output_type": "display_data"
    }
   ],
   "source": [
    "history[['accuracy', 'val_accuracy']].plot()"
   ]
  },
  {
   "cell_type": "code",
   "execution_count": null,
   "id": "hX-Ig9jQDdTS",
   "metadata": {
    "colab": {
     "base_uri": "https://localhost:8080/"
    },
    "id": "hX-Ig9jQDdTS",
    "outputId": "abc75e24-484e-4f21-b7f8-e746ff3b3908"
   },
   "outputs": [],
   "source": [
    "# Save Model\n",
    "\n",
    "model.save(\"cifar10.h5\")"
   ]
  },
  {
   "cell_type": "code",
   "execution_count": 17,
   "id": "02580992",
   "metadata": {
    "colab": {
     "base_uri": "https://localhost:8080/"
    },
    "id": "02580992",
    "outputId": "918e9a43-5ace-41ed-d0d0-f49ed0e4f69d"
   },
   "outputs": [
    {
     "name": "stdout",
     "output_type": "stream",
     "text": [
      "313/313 [==============================] - 4s 12ms/step - loss: 0.6112 - accuracy: 0.9125\n"
     ]
    },
    {
     "data": {
      "text/plain": [
       "[0.6112092137336731, 0.9125000238418579]"
      ]
     },
     "execution_count": 17,
     "metadata": {},
     "output_type": "execute_result"
    }
   ],
   "source": [
    "# Model Evaluate\n",
    "\n",
    "model.evaluate(x_test, y_test)"
   ]
  }
 ],
 "metadata": {
  "accelerator": "GPU",
  "colab": {
   "collapsed_sections": [],
   "name": "CIFAR10.ipynb",
   "provenance": []
  },
  "kernelspec": {
   "display_name": "Python 3 (ipykernel)",
   "language": "python",
   "name": "python3"
  },
  "language_info": {
   "codemirror_mode": {
    "name": "ipython",
    "version": 3
   },
   "file_extension": ".py",
   "mimetype": "text/x-python",
   "name": "python",
   "nbconvert_exporter": "python",
   "pygments_lexer": "ipython3",
   "version": "3.8.10"
  }
 },
 "nbformat": 4,
 "nbformat_minor": 5
}
